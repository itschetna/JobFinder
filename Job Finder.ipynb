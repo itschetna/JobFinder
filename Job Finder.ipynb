{
  "cells": [
    {
      "metadata": {
        "id": "Jqmz_K0iHgYz"
      },
      "cell_type": "markdown",
      "source": [
        "# Job Finder\n",
        "\n",
        "This notebook creates a model, to recommend job positions given a position requirements description ."
      ]
    },
    {
      "metadata": {
        "_uuid": "8f2839f25d086af736a60e9eeb907d3b93b6e0e5",
        "_cell_guid": "b1076dfc-b9ad-4769-8c92-a6c4dae69d19",
        "trusted": true,
        "id": "uV41avBMHgY0"
      },
      "cell_type": "code",
      "source": [
        "import numpy as np # linear algebra\n",
        "import pandas as pd # data processing, CSV file I/O (e.g. pd.read_csv)\n",
        "from sklearn.feature_extraction import DictVectorizer\n",
        "from sklearn.feature_extraction.text import CountVectorizer\n",
        "from sklearn.model_selection import train_test_split\n",
        "# Input data files are available in the \"../input/\" directory.\n",
        "# For example, running this (by clicking run or pressing Shift+Enter) will list all files under the input directory\n",
        "import nltk\n",
        "from nltk.corpus import stopwords\n",
        "from sklearn.preprocessing import LabelEncoder\n",
        "from sklearn.mixture import GaussianMixture\n",
        "from sklearn.cluster import KMeans\n",
        "from sklearn.metrics import accuracy_score, auc, roc_curve, roc_auc_score\n",
        "import pandas as pd\n",
        "import matplotlib.pyplot as plt\n",
        "import seaborn as sns\n",
        "\n",
        "import os\n",
        "for dirname, _, filenames in os.walk('/kaggle/input'):\n",
        "    for filename in filenames:\n",
        "        print(os.path.join(dirname, filename))\n",
        "\n",
        "# Any results you write to the current directory are saved as output.\n",
        "\n"
      ],
      "execution_count": 20,
      "outputs": []
    },
    {
      "metadata": {
        "trusted": true,
        "id": "nuC8MtokHgY1",
        "outputId": "161049b3-2b94-4cd5-9470-08d391a22bdc",
        "colab": {
          "base_uri": "https://localhost:8080/"
        }
      },
      "cell_type": "code",
      "source": [
        "import pandas as pd\n",
        "\n",
        "# Reading the CSV file\n",
        "data = pd.read_csv('/content/sample_data/data job posts.csv', encoding='utf-8')\n",
        "print(data.columns)\n",
        "\n",
        "# Selecting only IT Jobs (modify 'IT' to match your actual filter column name)\n",
        "if 'IT' in data.columns:\n",
        "    df = data[data['IT'] == True]  # Assuming 'IT' contains boolean values or specific job types\n",
        "\n",
        "# Selecting required columns\n",
        "cols = ['RequiredQual', 'Eligibility', 'Title', 'JobDescription', 'JobRequirment']\n",
        "df = df[cols]\n",
        "\n",
        "# Displaying the first few rows\n",
        "print(df.head(5))\n"
      ],
      "execution_count": 5,
      "outputs": [
        {
          "output_type": "stream",
          "name": "stdout",
          "text": [
            "Index(['jobpost', 'date', 'Title', 'Company', 'AnnouncementCode', 'Term',\n",
            "       'Eligibility', 'Audience', 'StartDate', 'Duration', 'Location',\n",
            "       'JobDescription', 'JobRequirment', 'RequiredQual', 'Salary',\n",
            "       'ApplicationP', 'OpeningDate', 'Deadline', 'Notes', 'AboutC', 'Attach',\n",
            "       'Year', 'Month', 'IT'],\n",
            "      dtype='object')\n",
            "                                         RequiredQual Eligibility  \\\n",
            "4   - University degree; economical background is ...         NaN   \n",
            "15  - Excellent knowledge of Windows 2000 Server, ...         NaN   \n",
            "19  As a GD you are creative, innovative and have\\...         NaN   \n",
            "34  Participants should be mid-level professionals...         NaN   \n",
            "35  - Work experience of at least two years; \\r\\n-...         NaN   \n",
            "\n",
            "                            Title  \\\n",
            "4              Software Developer   \n",
            "15          Network Administrator   \n",
            "19               Graphic Designer   \n",
            "34  Demographic Analysis Workshop   \n",
            "35                     Programmer   \n",
            "\n",
            "                                       JobDescription  \\\n",
            "4                                                 NaN   \n",
            "15                                                NaN   \n",
            "19  The position of Graphic Designer (GD) demands ...   \n",
            "34                                                NaN   \n",
            "35                                                NaN   \n",
            "\n",
            "                                        JobRequirment  \n",
            "4   - Rendering technical assistance to Database M...  \n",
            "15  - Network monitoring and administration;\\r\\n- ...  \n",
            "19  Graphic Designer will be responsible for every...  \n",
            "34                                                NaN  \n",
            "35                                                NaN  \n"
          ]
        }
      ]
    },
    {
      "cell_type": "code",
      "source": [
        "# Display basic information about the dataset\n",
        "print(\"Data Information:\")\n",
        "print(data.info())\n",
        "\n",
        "\n",
        "\n"
      ],
      "metadata": {
        "id": "bsTlymkUMEIe",
        "outputId": "0c82d5f7-bac3-42e2-8314-ed70cbac6352",
        "colab": {
          "base_uri": "https://localhost:8080/"
        }
      },
      "execution_count": 36,
      "outputs": [
        {
          "output_type": "stream",
          "name": "stdout",
          "text": [
            "Data Information:\n",
            "<class 'pandas.core.frame.DataFrame'>\n",
            "Index: 3242 entries, 185 to 18995\n",
            "Data columns (total 26 columns):\n",
            " #   Column                   Non-Null Count  Dtype \n",
            "---  ------                   --------------  ----- \n",
            " 0   jobpost                  3242 non-null   object\n",
            " 1   date                     3242 non-null   object\n",
            " 2   Title                    3242 non-null   object\n",
            " 3   Company                  3242 non-null   object\n",
            " 4   AnnouncementCode         255 non-null    object\n",
            " 5   Term                     1959 non-null   object\n",
            " 6   Eligibility              3242 non-null   object\n",
            " 7   Audience                 89 non-null     object\n",
            " 8   StartDate                2349 non-null   object\n",
            " 9   Duration                 2413 non-null   object\n",
            " 10  Location                 3242 non-null   object\n",
            " 11  JobDescription           3242 non-null   object\n",
            " 12  JobRequirment            3242 non-null   object\n",
            " 13  RequiredQual             3242 non-null   object\n",
            " 14  Salary                   1877 non-null   object\n",
            " 15  ApplicationP             3242 non-null   object\n",
            " 16  OpeningDate              3212 non-null   object\n",
            " 17  Deadline                 3241 non-null   object\n",
            " 18  Notes                    463 non-null    object\n",
            " 19  AboutC                   2385 non-null   object\n",
            " 20  Attach                   209 non-null    object\n",
            " 21  Year                     3242 non-null   int64 \n",
            " 22  Month                    3242 non-null   int64 \n",
            " 23  IT                       3242 non-null   bool  \n",
            " 24  JobDescription_length    3242 non-null   int64 \n",
            " 25  RequiredQual_word_count  3242 non-null   int64 \n",
            "dtypes: bool(1), int64(4), object(21)\n",
            "memory usage: 661.7+ KB\n",
            "None\n"
          ]
        }
      ]
    },
    {
      "cell_type": "code",
      "source": [
        "# Checking for missing values\n",
        "print(\"\\nMissing Values:\")\n",
        "print(data.isnull().sum())"
      ],
      "metadata": {
        "id": "0W4-0_-eNi4a",
        "outputId": "548957df-8383-40e3-d9d0-85ae45ea1417",
        "colab": {
          "base_uri": "https://localhost:8080/"
        }
      },
      "execution_count": 34,
      "outputs": [
        {
          "output_type": "stream",
          "name": "stdout",
          "text": [
            "\n",
            "Missing Values:\n",
            "jobpost                       0\n",
            "date                          0\n",
            "Title                         0\n",
            "Company                       0\n",
            "AnnouncementCode           2987\n",
            "Term                       1283\n",
            "Eligibility                   0\n",
            "Audience                   3153\n",
            "StartDate                   893\n",
            "Duration                    829\n",
            "Location                      0\n",
            "JobDescription                0\n",
            "JobRequirment                 0\n",
            "RequiredQual                  0\n",
            "Salary                     1365\n",
            "ApplicationP                  0\n",
            "OpeningDate                  30\n",
            "Deadline                      1\n",
            "Notes                      2779\n",
            "AboutC                      857\n",
            "Attach                     3033\n",
            "Year                          0\n",
            "Month                         0\n",
            "IT                            0\n",
            "JobDescription_length         0\n",
            "RequiredQual_word_count       0\n",
            "dtype: int64\n"
          ]
        }
      ]
    },
    {
      "metadata": {
        "id": "eGjas4_7HgY1"
      },
      "cell_type": "markdown",
      "source": [
        "# Modifying Job Titles\n",
        "Selecting only top 21 job titles, to manage class imbalance"
      ]
    },
    {
      "metadata": {
        "trusted": true,
        "id": "hIVfoZt2HgY2",
        "outputId": "813237be-2f9d-4697-97c7-8c722fafdb85",
        "colab": {
          "base_uri": "https://localhost:8080/",
          "height": 774
        }
      },
      "cell_type": "code",
      "source": [
        "classes = df['Title'].value_counts()[:21]\n",
        "keys = classes.keys().to_list()\n",
        "\n",
        "df = df[df['Title'].isin(keys)]\n",
        "df['Title'].value_counts()"
      ],
      "execution_count": 6,
      "outputs": [
        {
          "output_type": "execute_result",
          "data": {
            "text/plain": [
              "Title\n",
              "Software Developer           134\n",
              "Web Developer                101\n",
              "Java Developer                88\n",
              "Graphic Designer              75\n",
              "Software Engineer             69\n",
              "Senior Java Developer         69\n",
              "PHP Developer                 65\n",
              "Senior Software Engineer      63\n",
              "Programmer                    56\n",
              "IT Specialist                 55\n",
              "Senior QA Engineer            43\n",
              "Senior Software Developer     41\n",
              "Android Developer             37\n",
              ".NET Developer                36\n",
              "Senior .NET Developer         34\n",
              "Senior PHP Developer          34\n",
              "iOS Developer                 31\n",
              "Software QA Engineer          29\n",
              "Senior Web Developer          29\n",
              "Database Developer            29\n",
              "Database Administrator        28\n",
              "Name: count, dtype: int64"
            ],
            "text/html": [
              "<div>\n",
              "<style scoped>\n",
              "    .dataframe tbody tr th:only-of-type {\n",
              "        vertical-align: middle;\n",
              "    }\n",
              "\n",
              "    .dataframe tbody tr th {\n",
              "        vertical-align: top;\n",
              "    }\n",
              "\n",
              "    .dataframe thead th {\n",
              "        text-align: right;\n",
              "    }\n",
              "</style>\n",
              "<table border=\"1\" class=\"dataframe\">\n",
              "  <thead>\n",
              "    <tr style=\"text-align: right;\">\n",
              "      <th></th>\n",
              "      <th>count</th>\n",
              "    </tr>\n",
              "    <tr>\n",
              "      <th>Title</th>\n",
              "      <th></th>\n",
              "    </tr>\n",
              "  </thead>\n",
              "  <tbody>\n",
              "    <tr>\n",
              "      <th>Software Developer</th>\n",
              "      <td>134</td>\n",
              "    </tr>\n",
              "    <tr>\n",
              "      <th>Web Developer</th>\n",
              "      <td>101</td>\n",
              "    </tr>\n",
              "    <tr>\n",
              "      <th>Java Developer</th>\n",
              "      <td>88</td>\n",
              "    </tr>\n",
              "    <tr>\n",
              "      <th>Graphic Designer</th>\n",
              "      <td>75</td>\n",
              "    </tr>\n",
              "    <tr>\n",
              "      <th>Software Engineer</th>\n",
              "      <td>69</td>\n",
              "    </tr>\n",
              "    <tr>\n",
              "      <th>Senior Java Developer</th>\n",
              "      <td>69</td>\n",
              "    </tr>\n",
              "    <tr>\n",
              "      <th>PHP Developer</th>\n",
              "      <td>65</td>\n",
              "    </tr>\n",
              "    <tr>\n",
              "      <th>Senior Software Engineer</th>\n",
              "      <td>63</td>\n",
              "    </tr>\n",
              "    <tr>\n",
              "      <th>Programmer</th>\n",
              "      <td>56</td>\n",
              "    </tr>\n",
              "    <tr>\n",
              "      <th>IT Specialist</th>\n",
              "      <td>55</td>\n",
              "    </tr>\n",
              "    <tr>\n",
              "      <th>Senior QA Engineer</th>\n",
              "      <td>43</td>\n",
              "    </tr>\n",
              "    <tr>\n",
              "      <th>Senior Software Developer</th>\n",
              "      <td>41</td>\n",
              "    </tr>\n",
              "    <tr>\n",
              "      <th>Android Developer</th>\n",
              "      <td>37</td>\n",
              "    </tr>\n",
              "    <tr>\n",
              "      <th>.NET Developer</th>\n",
              "      <td>36</td>\n",
              "    </tr>\n",
              "    <tr>\n",
              "      <th>Senior .NET Developer</th>\n",
              "      <td>34</td>\n",
              "    </tr>\n",
              "    <tr>\n",
              "      <th>Senior PHP Developer</th>\n",
              "      <td>34</td>\n",
              "    </tr>\n",
              "    <tr>\n",
              "      <th>iOS Developer</th>\n",
              "      <td>31</td>\n",
              "    </tr>\n",
              "    <tr>\n",
              "      <th>Software QA Engineer</th>\n",
              "      <td>29</td>\n",
              "    </tr>\n",
              "    <tr>\n",
              "      <th>Senior Web Developer</th>\n",
              "      <td>29</td>\n",
              "    </tr>\n",
              "    <tr>\n",
              "      <th>Database Developer</th>\n",
              "      <td>29</td>\n",
              "    </tr>\n",
              "    <tr>\n",
              "      <th>Database Administrator</th>\n",
              "      <td>28</td>\n",
              "    </tr>\n",
              "  </tbody>\n",
              "</table>\n",
              "</div><br><label><b>dtype:</b> int64</label>"
            ]
          },
          "metadata": {},
          "execution_count": 6
        }
      ]
    },
    {
      "metadata": {
        "id": "Kni6v5yAHgY2"
      },
      "cell_type": "markdown",
      "source": [
        "Change job titles to base title. For exmaple, chaning Senior Java Developer to Java Developer.   "
      ]
    },
    {
      "metadata": {
        "trusted": true,
        "id": "lhLAik8sHgY2",
        "outputId": "50072092-ceef-4207-c244-3d6d67034e1b",
        "colab": {
          "base_uri": "https://localhost:8080/",
          "height": 554
        }
      },
      "cell_type": "code",
      "source": [
        "def chane_titles(x):\n",
        "    x = x.strip()\n",
        "    if x == 'Senior Java Developer':\n",
        "        return 'Java Developer'\n",
        "    elif x == 'Senior Software Engineer':\n",
        "        return 'Software Engineer'\n",
        "    elif x == 'Senior QA Engineer':\n",
        "        return 'Software QA Engineer'\n",
        "    elif x == 'Senior Software Developer':\n",
        "        return 'Senior Web Developer'\n",
        "    elif x =='Senior PHP Developer':\n",
        "        return 'PHP Developer'\n",
        "    elif x == 'Senior .NET Developer':\n",
        "        return '.NET Developer'\n",
        "    elif x == 'Senior Web Developer':\n",
        "        return 'Web Developer'\n",
        "    elif x == 'Database Administrator':\n",
        "        return 'Database Admin/Dev'\n",
        "    elif x == 'Database Developer':\n",
        "        return 'Database Admin/Dev'\n",
        "\n",
        "    else:\n",
        "        return x\n",
        "\n",
        "\n",
        "df['Title'] = df['Title'].apply(chane_titles)\n",
        "df['Title'].value_counts()"
      ],
      "execution_count": 7,
      "outputs": [
        {
          "output_type": "execute_result",
          "data": {
            "text/plain": [
              "Title\n",
              "Java Developer          157\n",
              "Software Developer      134\n",
              "Software Engineer       132\n",
              "Web Developer           130\n",
              "PHP Developer            99\n",
              "Graphic Designer         75\n",
              "Software QA Engineer     72\n",
              ".NET Developer           70\n",
              "Database Admin/Dev       57\n",
              "Programmer               56\n",
              "IT Specialist            55\n",
              "Senior Web Developer     41\n",
              "Android Developer        37\n",
              "iOS Developer            31\n",
              "Name: count, dtype: int64"
            ],
            "text/html": [
              "<div>\n",
              "<style scoped>\n",
              "    .dataframe tbody tr th:only-of-type {\n",
              "        vertical-align: middle;\n",
              "    }\n",
              "\n",
              "    .dataframe tbody tr th {\n",
              "        vertical-align: top;\n",
              "    }\n",
              "\n",
              "    .dataframe thead th {\n",
              "        text-align: right;\n",
              "    }\n",
              "</style>\n",
              "<table border=\"1\" class=\"dataframe\">\n",
              "  <thead>\n",
              "    <tr style=\"text-align: right;\">\n",
              "      <th></th>\n",
              "      <th>count</th>\n",
              "    </tr>\n",
              "    <tr>\n",
              "      <th>Title</th>\n",
              "      <th></th>\n",
              "    </tr>\n",
              "  </thead>\n",
              "  <tbody>\n",
              "    <tr>\n",
              "      <th>Java Developer</th>\n",
              "      <td>157</td>\n",
              "    </tr>\n",
              "    <tr>\n",
              "      <th>Software Developer</th>\n",
              "      <td>134</td>\n",
              "    </tr>\n",
              "    <tr>\n",
              "      <th>Software Engineer</th>\n",
              "      <td>132</td>\n",
              "    </tr>\n",
              "    <tr>\n",
              "      <th>Web Developer</th>\n",
              "      <td>130</td>\n",
              "    </tr>\n",
              "    <tr>\n",
              "      <th>PHP Developer</th>\n",
              "      <td>99</td>\n",
              "    </tr>\n",
              "    <tr>\n",
              "      <th>Graphic Designer</th>\n",
              "      <td>75</td>\n",
              "    </tr>\n",
              "    <tr>\n",
              "      <th>Software QA Engineer</th>\n",
              "      <td>72</td>\n",
              "    </tr>\n",
              "    <tr>\n",
              "      <th>.NET Developer</th>\n",
              "      <td>70</td>\n",
              "    </tr>\n",
              "    <tr>\n",
              "      <th>Database Admin/Dev</th>\n",
              "      <td>57</td>\n",
              "    </tr>\n",
              "    <tr>\n",
              "      <th>Programmer</th>\n",
              "      <td>56</td>\n",
              "    </tr>\n",
              "    <tr>\n",
              "      <th>IT Specialist</th>\n",
              "      <td>55</td>\n",
              "    </tr>\n",
              "    <tr>\n",
              "      <th>Senior Web Developer</th>\n",
              "      <td>41</td>\n",
              "    </tr>\n",
              "    <tr>\n",
              "      <th>Android Developer</th>\n",
              "      <td>37</td>\n",
              "    </tr>\n",
              "    <tr>\n",
              "      <th>iOS Developer</th>\n",
              "      <td>31</td>\n",
              "    </tr>\n",
              "  </tbody>\n",
              "</table>\n",
              "</div><br><label><b>dtype:</b> int64</label>"
            ]
          },
          "metadata": {},
          "execution_count": 7
        }
      ]
    },
    {
      "cell_type": "markdown",
      "source": [
        "Data Visualisation\n"
      ],
      "metadata": {
        "id": "pr3jt9oAMtHn"
      }
    },
    {
      "cell_type": "code",
      "source": [
        "\n",
        "# Set a larger figure size for more space\n",
        "plt.figure(figsize=(12, 6))\n",
        "\n",
        "# Plot with the top 10 job titles, using value_counts\n",
        "data['Title'].value_counts().head(10).plot(kind='bar', color='skyblue')\n",
        "\n",
        "# Adding title and labels\n",
        "plt.title('Top 10 Job Titles')\n",
        "plt.xlabel('Job Title')\n",
        "plt.ylabel('Frequency')\n",
        "\n",
        "# Adjust the rotation and font size for better readability\n",
        "plt.xticks(rotation=60, ha='right', fontsize=10)\n",
        "\n",
        "# Display the plot\n",
        "plt.show()\n"
      ],
      "metadata": {
        "id": "7jFUIx6wKYWa",
        "outputId": "b5ecb2dc-ea57-4e8a-d44d-02d8cd4ca2b4",
        "colab": {
          "base_uri": "https://localhost:8080/",
          "height": 785
        }
      },
      "execution_count": 39,
      "outputs": [
        {
          "output_type": "display_data",
          "data": {
            "text/plain": [
              "<Figure size 1200x600 with 1 Axes>"
            ],
            "image/png": "[encoded data removed]"
          },
          "metadata": {}
        }
      ]
    },
    {
      "cell_type": "code",
      "source": [
        "# Length of Job Descriptions\n",
        "data['JobDescription_length'] = data['JobDescription'].apply(lambda x: len(str(x)))\n",
        "plt.figure(figsize=(10, 5))\n",
        "sns.histplot(data['JobDescription_length'], kde=True, color='purple')\n",
        "plt.title('Distribution of Job Description Length')\n",
        "plt.xlabel('Description Length')\n",
        "plt.ylabel('Frequency')\n",
        "plt.show()\n"
      ],
      "metadata": {
        "id": "sEzGm9dKNyEO",
        "outputId": "6edcedf8-1a0a-4892-d1e8-21942f0db0e4",
        "colab": {
          "base_uri": "https://localhost:8080/",
          "height": 487
        }
      },
      "execution_count": 37,
      "outputs": [
        {
          "output_type": "display_data",
          "data": {
            "text/plain": [
              "<Figure size 1000x500 with 1 Axes>"
            ],
            "image/png": "[encoded data removed]"
          },
          "metadata": {}
        }
      ]
    },
    {
      "cell_type": "code",
      "source": [
        "# Word Count in Required Qualifications\n",
        "data['RequiredQual_word_count'] = data['RequiredQual'].apply(lambda x: len(str(x).split()))\n",
        "plt.figure(figsize=(10, 5))\n",
        "sns.histplot(data['RequiredQual_word_count'], kde=True, color='green')\n",
        "plt.title('Distribution of Word Count in Required Qualifications')\n",
        "plt.xlabel('Word Count')\n",
        "plt.ylabel('Frequency')\n",
        "plt.show()\n",
        "\n",
        "\n"
      ],
      "metadata": {
        "id": "NzKi1SHUNBUb",
        "outputId": "d546599c-276e-44b6-c314-b094a30c31c2",
        "colab": {
          "base_uri": "https://localhost:8080/",
          "height": 487
        }
      },
      "execution_count": 41,
      "outputs": [
        {
          "output_type": "display_data",
          "data": {
            "text/plain": [
              "<Figure size 1000x500 with 1 Axes>"
            ],
            "image/png": "[encoded data removed]"
          },
          "metadata": {}
        }
      ]
    },
    {
      "cell_type": "code",
      "source": [
        "numeric_data = data.select_dtypes(include=['number'])\n",
        "\n",
        "# Check if there are any numeric columns available for correlation\n",
        "if not numeric_data.empty:\n",
        "    plt.figure(figsize=(8, 6))\n",
        "    sns.heatmap(numeric_data.corr(), annot=True, cmap='coolwarm', vmin=-1, vmax=1)\n",
        "    plt.title('Correlation Matrix')\n",
        "    plt.show()\n",
        "else:\n",
        "    print(\"No numeric columns available for correlation.\")\n",
        "\n",
        "# Checking unique values in the Eligibility column\n",
        "print(\"\\nUnique values in Eligibility:\")\n",
        "print(data['Eligibility'].value_counts())"
      ],
      "metadata": {
        "id": "7Lxejx1nOZ4U",
        "outputId": "a3e7988f-06be-4d66-8039-44237f20ae58",
        "colab": {
          "base_uri": "https://localhost:8080/",
          "height": 1000
        }
      },
      "execution_count": 40,
      "outputs": [
        {
          "output_type": "display_data",
          "data": {
            "text/plain": [
              "<Figure size 800x600 with 2 Axes>"
            ],
            "image/png": "[encoded data removed]"
          },
          "metadata": {}
        },
        {
          "output_type": "stream",
          "name": "stdout",
          "text": [
            "\n",
            "Unique values in Eligibility:\n",
            "Eligibility\n",
            "All qualified candidates                                                                                                                                            985\n",
            "All interested candidates                                                                                                                                           580\n",
            "Everyone                                                                                                                                                            209\n",
            "All qualified candidates.                                                                                                                                           156\n",
            "All interested and qualified candidates.                                                                                                                            141\n",
            "                                                                                                                                                                   ... \n",
            "Experienced Java/J2ME test case\\r\\ndevelopers for System Test in functionality areas of IMS, Mobile 3D\\r\\ngraphics, Web Services, Mobile sensors, Blutooth, etc.      1\n",
            "Pediatricians                                                                                                                                                         1\n",
            "Experienced developers                                                                                                                                                1\n",
            "All qualified candidates with previous\\r\\nwork experience.                                                                                                            1\n",
            "All interested professionals in the\\r\\nfields of sociology, management and quality assurance systems.                                                                 1\n",
            "Name: count, Length: 391, dtype: int64\n"
          ]
        }
      ]
    },
    {
      "metadata": {
        "id": "itUF-mjHHgY3"
      },
      "cell_type": "markdown",
      "source": [
        "# Building custom tokenizer to process text"
      ]
    },
    {
      "metadata": {
        "trusted": true,
        "id": "aCmmsLYhHgY3"
      },
      "cell_type": "code",
      "source": [
        "from nltk import word_tokenize\n",
        "from nltk.stem import WordNetLemmatizer\n",
        "class LemmaTokenizer(object):\n",
        "    def __init__(self):\n",
        "        # lemmatize text - convert to base form\n",
        "        self.wnl = WordNetLemmatizer()\n",
        "        # creating stopwords list, to ignore lemmatizing stopwords\n",
        "        self.stopwords = stopwords.words('english')\n",
        "    def __call__(self, doc):\n",
        "        return [self.wnl.lemmatize(t) for t in word_tokenize(doc) if t not in self.stopwords]\n",
        "\n",
        "# removing new line characters, and certain hypen patterns\n",
        "df['RequiredQual']=df['RequiredQual'].apply(lambda x: x.replace('\\n', ' ').replace('\\r', '').replace('- ', ''). replace(' - ', ' to '))"
      ],
      "execution_count": 28,
      "outputs": []
    },
    {
      "metadata": {
        "id": "JHp0HUTHHgY4"
      },
      "cell_type": "markdown",
      "source": [
        "# Featurizing Text"
      ]
    },
    {
      "metadata": {
        "trusted": true,
        "id": "LpVuJ_TcHgY4",
        "outputId": "077aa1b1-eb61-4cf7-ad91-c027c3b17d36",
        "colab": {
          "base_uri": "https://localhost:8080/"
        }
      },
      "cell_type": "code",
      "source": [
        "import nltk\n",
        "from sklearn.feature_extraction.text import TfidfVectorizer\n",
        "from sklearn.preprocessing import LabelEncoder\n",
        "from sklearn.model_selection import train_test_split\n",
        "from nltk.corpus import stopwords\n",
        "from nltk.stem import WordNetLemmatizer\n",
        "from nltk.tokenize import word_tokenize\n",
        "\n",
        "# Downloading necessary NLTK resources\n",
        "nltk.download('stopwords')\n",
        "nltk.download('punkt')\n",
        "nltk.download('wordnet')\n",
        "\n",
        "# LemmaTokenizer class with lemmatization and tokenization\n",
        "class LemmaTokenizer:\n",
        "    def __init__(self):\n",
        "        self.wnl = WordNetLemmatizer()\n",
        "    def __call__(self, doc):\n",
        "        return [self.wnl.lemmatize(t) for t in word_tokenize(doc)]\n",
        "\n",
        "# Train features and labels\n",
        "y = df['Title']\n",
        "X = df['RequiredQual']\n",
        "\n",
        "# TF-IDF vectorization with stop words\n",
        "vectorizer = TfidfVectorizer(tokenizer=LemmaTokenizer(), stop_words=stopwords.words('english'))\n",
        "vectorizer.fit(X)\n",
        "\n",
        "# Transform text to TF-IDF features\n",
        "tfidf_matrix = vectorizer.transform(X)\n",
        "X_tfidf = tfidf_matrix.toarray()\n",
        "\n",
        "# Encode text labels in categories\n",
        "enc = LabelEncoder()\n",
        "enc.fit(y.values)\n",
        "y_enc = enc.transform(y.values)\n",
        "\n",
        "# Split data into train and test sets\n",
        "X_train_words, X_test_words, y_train, y_test = train_test_split(X, y_enc, test_size=0.15, random_state=10)\n",
        "\n",
        "# Transform train and test text data\n",
        "X_train = vectorizer.transform(X_train_words).toarray()\n",
        "X_test = vectorizer.transform(X_test_words).toarray()\n"
      ],
      "execution_count": 29,
      "outputs": [
        {
          "output_type": "stream",
          "name": "stderr",
          "text": [
            "[nltk_data] Downloading package stopwords to /root/nltk_data...\n",
            "[nltk_data]   Package stopwords is already up-to-date!\n",
            "[nltk_data] Downloading package punkt to /root/nltk_data...\n",
            "[nltk_data]   Package punkt is already up-to-date!\n",
            "[nltk_data] Downloading package wordnet to /root/nltk_data...\n",
            "[nltk_data]   Package wordnet is already up-to-date!\n",
            "/usr/local/lib/python3.10/dist-packages/sklearn/feature_extraction/text.py:521: UserWarning: The parameter 'token_pattern' will not be used since 'tokenizer' is not None'\n",
            "  warnings.warn(\n",
            "/usr/local/lib/python3.10/dist-packages/sklearn/feature_extraction/text.py:406: UserWarning: Your stop_words may be inconsistent with your preprocessing. Tokenizing the stop words generated tokens [\"'d\", \"'ll\", \"'re\", \"'s\", \"'ve\", 'could', 'doe', 'ha', 'might', 'must', \"n't\", 'need', 'sha', 'wa', 'wo', 'would'] not in stop_words.\n",
            "  warnings.warn(\n"
          ]
        }
      ]
    },
    {
      "metadata": {
        "id": "VTv4HzgCHgY4"
      },
      "cell_type": "markdown",
      "source": [
        "# Training Naive Bayes\n",
        "Looks pretty overfit"
      ]
    },
    {
      "metadata": {
        "trusted": true,
        "id": "745R-3WPHgY4",
        "outputId": "cfd9b644-6645-4872-a07f-867f7423a027",
        "colab": {
          "base_uri": "https://localhost:8080/"
        }
      },
      "cell_type": "code",
      "source": [
        "from sklearn.naive_bayes import GaussianNB, MultinomialNB\n",
        "from sklearn.discriminant_analysis import LinearDiscriminantAnalysis\n",
        "gnb = GaussianNB()\n",
        "train_preds = gnb.fit(X_train, y_train).predict(X_train)\n",
        "test_preds = gnb.predict(X_test)\n",
        "\n",
        "print('Train acc: {0}'.format(accuracy_score(y_train, train_preds)))\n",
        "print('Test acc: {0}'.format(accuracy_score(y_test, test_preds)))\n"
      ],
      "execution_count": 30,
      "outputs": [
        {
          "output_type": "stream",
          "name": "stdout",
          "text": [
            "Train acc: 0.946611909650924\n",
            "Test acc: 0.6802325581395349\n"
          ]
        }
      ]
    },
    {
      "metadata": {
        "id": "0YDFbFZvHgY4"
      },
      "cell_type": "markdown",
      "source": [
        "# Training Logistic Regression\n",
        "By modifiying the maximum number of iterations, and regularization, C, the above experienced overfitting was reduced significantly\n"
      ]
    },
    {
      "metadata": {
        "trusted": true,
        "id": "ajNjzE6yHgY5",
        "outputId": "20f8696d-170d-4788-93ed-80a9f2087abd",
        "colab": {
          "base_uri": "https://localhost:8080/"
        }
      },
      "cell_type": "code",
      "source": [
        "from sklearn.linear_model import LogisticRegression\n",
        "\n",
        "logistic = LogisticRegression(max_iter=15,verbose=1, C=0.75)\n",
        "\n",
        "train_preds = logistic.fit(X_train, y_train).predict(X_train)\n",
        "test_preds = logistic.predict(X_test)\n",
        "\n",
        "print('Train acc: {0}'.format(accuracy_score(y_train, train_preds)))\n",
        "print('Test acc: {0}'.format(accuracy_score(y_test, test_preds)))\n"
      ],
      "execution_count": 31,
      "outputs": [
        {
          "output_type": "stream",
          "name": "stdout",
          "text": [
            "Train acc: 0.8767967145790554\n",
            "Test acc: 0.7325581395348837\n"
          ]
        },
        {
          "output_type": "stream",
          "name": "stderr",
          "text": [
            "/usr/local/lib/python3.10/dist-packages/sklearn/linear_model/_logistic.py:469: ConvergenceWarning: lbfgs failed to converge (status=1):\n",
            "STOP: TOTAL NO. of ITERATIONS REACHED LIMIT.\n",
            "\n",
            "Increase the number of iterations (max_iter) or scale the data as shown in:\n",
            "    https://scikit-learn.org/stable/modules/preprocessing.html\n",
            "Please also refer to the documentation for alternative solver options:\n",
            "    https://scikit-learn.org/stable/modules/linear_model.html#logistic-regression\n",
            "  n_iter_i = _check_optimize_result(\n"
          ]
        }
      ]
    },
    {
      "metadata": {
        "id": "tdQFQeB5HgY5"
      },
      "cell_type": "markdown",
      "source": [
        "# Creating Job Recommendations\n",
        "Recommends 2 job position alternatives given a job requirement. By obtaining probability of class predictions, and picking the top N predictions, other than true label, N closest recommendations can be got"
      ]
    },
    {
      "metadata": {
        "trusted": true,
        "id": "nM8kjvqWHgY5"
      },
      "cell_type": "code",
      "source": [
        "preds_data = {'Current Position Requirments': [], 'Current Position': [], 'Alternative 1': [], 'Alternative 2': []}\n",
        "y_preds_proba = logistic.predict_proba(X_test)\n",
        "\n",
        "counter = 0\n",
        "for idx, (pred_row, true_job_position) in enumerate(zip(y_preds_proba, y_test)):\n",
        "    class_preds = np.argsort(pred_row)\n",
        "    # delete true class\n",
        "    for i in [-1, -2]:\n",
        "        if class_preds[i] == true_job_position:\n",
        "            class_preds=np.delete(class_preds,i)\n",
        "    # getting other 2 highest job predictions\n",
        "    top_classes = class_preds[-2:]\n",
        "    # obtaining class name string from int label\n",
        "    class_names = enc.inverse_transform(top_classes)\n",
        "    true_job_position_name = enc.inverse_transform([true_job_position])\n",
        "    # saving to dict\n",
        "    preds_data['Current Position Requirments'].append(X_test_words.iloc[idx])\n",
        "    preds_data['Current Position'].append(true_job_position_name[0])\n",
        "    preds_data['Alternative 1'].append(class_names[1])\n",
        "    preds_data['Alternative 2'].append(class_names[0])\n",
        "\n",
        "\n",
        "    counter +=1"
      ],
      "execution_count": 32,
      "outputs": []
    },
    {
      "metadata": {
        "trusted": true,
        "id": "aESDoNMHHgY5",
        "outputId": "fc71f59e-3231-4c3d-ba14-2bb613ea4a55",
        "colab": {
          "base_uri": "https://localhost:8080/",
          "height": 424
        }
      },
      "cell_type": "code",
      "source": [
        "preds_df = pd.DataFrame.from_dict(preds_data)\n",
        "preds_df.to_csv('Recommendations.csv', index=False)\n",
        "preds_df\n"
      ],
      "execution_count": 33,
      "outputs": [
        {
          "output_type": "execute_result",
          "data": {
            "text/plain": [
              "                          Current Position Requirments    Current Position  \\\n",
              "0    From 1 to 5 years of experience in Android dev...   Android Developer   \n",
              "1    University degree in the appropriate field of ...       PHP Developer   \n",
              "2    At least 3 years of experience with PHP and Ja...       Web Developer   \n",
              "3    At least 3 years of work experience as a Java ...      Java Developer   \n",
              "4    Bachelor??s degree in Engineering or Informati...   Software Engineer   \n",
              "..                                                 ...                 ...   \n",
              "167  Artistic ability to draw, sketch and design cr...    Graphic Designer   \n",
              "168  BS in Computer Science, Maths or a related dis...   Software Engineer   \n",
              "169  University degree in Information Technology or...       IT Specialist   \n",
              "170  University degree in Computer Science, Informa...  Software Developer   \n",
              "171  At least 5 years of experience in software dev...      Java Developer   \n",
              "\n",
              "          Alternative 1       Alternative 2  \n",
              "0         iOS Developer   Software Engineer  \n",
              "1         Web Developer  Software Developer  \n",
              "2     Software Engineer       PHP Developer  \n",
              "3     Software Engineer  Software Developer  \n",
              "4    Software Developer       Web Developer  \n",
              "..                  ...                 ...  \n",
              "167       Web Developer  Software Developer  \n",
              "168       PHP Developer  Software Developer  \n",
              "169  Software Developer  Database Admin/Dev  \n",
              "170   Software Engineer      Java Developer  \n",
              "171   Software Engineer  Software Developer  \n",
              "\n",
              "[172 rows x 4 columns]"
            ],
            "text/html": [
              "\n",
              "  <div id=\"df-7e2ef9b9-dcbb-47c7-af9d-a9c5ca573cef\" class=\"colab-df-container\">\n",
              "    <div>\n",
              "<style scoped>\n",
              "    .dataframe tbody tr th:only-of-type {\n",
              "        vertical-align: middle;\n",
              "    }\n",
              "\n",
              "    .dataframe tbody tr th {\n",
              "        vertical-align: top;\n",
              "    }\n",
              "\n",
              "    .dataframe thead th {\n",
              "        text-align: right;\n",
              "    }\n",
              "</style>\n",
              "<table border=\"1\" class=\"dataframe\">\n",
              "  <thead>\n",
              "    <tr style=\"text-align: right;\">\n",
              "      <th></th>\n",
              "      <th>Current Position Requirments</th>\n",
              "      <th>Current Position</th>\n",
              "      <th>Alternative 1</th>\n",
              "      <th>Alternative 2</th>\n",
              "    </tr>\n",
              "  </thead>\n",
              "  <tbody>\n",
              "    <tr>\n",
              "      <th>0</th>\n",
              "      <td>From 1 to 5 years of experience in Android dev...</td>\n",
              "      <td>Android Developer</td>\n",
              "      <td>iOS Developer</td>\n",
              "      <td>Software Engineer</td>\n",
              "    </tr>\n",
              "    <tr>\n",
              "      <th>1</th>\n",
              "      <td>University degree in the appropriate field of ...</td>\n",
              "      <td>PHP Developer</td>\n",
              "      <td>Web Developer</td>\n",
              "      <td>Software Developer</td>\n",
              "    </tr>\n",
              "    <tr>\n",
              "      <th>2</th>\n",
              "      <td>At least 3 years of experience with PHP and Ja...</td>\n",
              "      <td>Web Developer</td>\n",
              "      <td>Software Engineer</td>\n",
              "      <td>PHP Developer</td>\n",
              "    </tr>\n",
              "    <tr>\n",
              "      <th>3</th>\n",
              "      <td>At least 3 years of work experience as a Java ...</td>\n",
              "      <td>Java Developer</td>\n",
              "      <td>Software Engineer</td>\n",
              "      <td>Software Developer</td>\n",
              "    </tr>\n",
              "    <tr>\n",
              "      <th>4</th>\n",
              "      <td>Bachelor??s degree in Engineering or Informati...</td>\n",
              "      <td>Software Engineer</td>\n",
              "      <td>Software Developer</td>\n",
              "      <td>Web Developer</td>\n",
              "    </tr>\n",
              "    <tr>\n",
              "      <th>...</th>\n",
              "      <td>...</td>\n",
              "      <td>...</td>\n",
              "      <td>...</td>\n",
              "      <td>...</td>\n",
              "    </tr>\n",
              "    <tr>\n",
              "      <th>167</th>\n",
              "      <td>Artistic ability to draw, sketch and design cr...</td>\n",
              "      <td>Graphic Designer</td>\n",
              "      <td>Web Developer</td>\n",
              "      <td>Software Developer</td>\n",
              "    </tr>\n",
              "    <tr>\n",
              "      <th>168</th>\n",
              "      <td>BS in Computer Science, Maths or a related dis...</td>\n",
              "      <td>Software Engineer</td>\n",
              "      <td>PHP Developer</td>\n",
              "      <td>Software Developer</td>\n",
              "    </tr>\n",
              "    <tr>\n",
              "      <th>169</th>\n",
              "      <td>University degree in Information Technology or...</td>\n",
              "      <td>IT Specialist</td>\n",
              "      <td>Software Developer</td>\n",
              "      <td>Database Admin/Dev</td>\n",
              "    </tr>\n",
              "    <tr>\n",
              "      <th>170</th>\n",
              "      <td>University degree in Computer Science, Informa...</td>\n",
              "      <td>Software Developer</td>\n",
              "      <td>Software Engineer</td>\n",
              "      <td>Java Developer</td>\n",
              "    </tr>\n",
              "    <tr>\n",
              "      <th>171</th>\n",
              "      <td>At least 5 years of experience in software dev...</td>\n",
              "      <td>Java Developer</td>\n",
              "      <td>Software Engineer</td>\n",
              "      <td>Software Developer</td>\n",
              "    </tr>\n",
              "  </tbody>\n",
              "</table>\n",
              "<p>172 rows × 4 columns</p>\n",
              "</div>\n",
              "    <div class=\"colab-df-buttons\">\n",
              "\n",
              "  <div class=\"colab-df-container\">\n",
              "    <button class=\"colab-df-convert\" onclick=\"convertToInteractive('df-7e2ef9b9-dcbb-47c7-af9d-a9c5ca573cef')\"\n",
              "            title=\"Convert this dataframe to an interactive table.\"\n",
              "            style=\"display:none;\">\n",
              "\n",
              "  <svg xmlns=\"http://www.w3.org/2000/svg\" height=\"24px\" viewBox=\"0 -960 960 960\">\n",
              "    <path d=\"M120-120v-720h720v720H120Zm60-500h600v-160H180v160Zm220 220h160v-160H400v160Zm0 220h160v-160H400v160ZM180-400h160v-160H180v160Zm440 0h160v-160H620v160ZM180-180h160v-160H180v160Zm440 0h160v-160H620v160Z\"/>\n",
              "  </svg>\n",
              "    </button>\n",
              "\n",
              "  <style>\n",
              "    .colab-df-container {\n",
              "      display:flex;\n",
              "      gap: 12px;\n",
              "    }\n",
              "\n",
              "    .colab-df-convert {\n",
              "      background-color: #E8F0FE;\n",
              "      border: none;\n",
              "      border-radius: 50%;\n",
              "      cursor: pointer;\n",
              "      display: none;\n",
              "      fill: #1967D2;\n",
              "      height: 32px;\n",
              "      padding: 0 0 0 0;\n",
              "      width: 32px;\n",
              "    }\n",
              "\n",
              "    .colab-df-convert:hover {\n",
              "      background-color: #E2EBFA;\n",
              "      box-shadow: 0px 1px 2px rgba(60, 64, 67, 0.3), 0px 1px 3px 1px rgba(60, 64, 67, 0.15);\n",
              "      fill: #174EA6;\n",
              "    }\n",
              "\n",
              "    .colab-df-buttons div {\n",
              "      margin-bottom: 4px;\n",
              "    }\n",
              "\n",
              "    [theme=dark] .colab-df-convert {\n",
              "      background-color: #3B4455;\n",
              "      fill: #D2E3FC;\n",
              "    }\n",
              "\n",
              "    [theme=dark] .colab-df-convert:hover {\n",
              "      background-color: #434B5C;\n",
              "      box-shadow: 0px 1px 3px 1px rgba(0, 0, 0, 0.15);\n",
              "      filter: drop-shadow(0px 1px 2px rgba(0, 0, 0, 0.3));\n",
              "      fill: #FFFFFF;\n",
              "    }\n",
              "  </style>\n",
              "\n",
              "    <script>\n",
              "      const buttonEl =\n",
              "        document.querySelector('#df-7e2ef9b9-dcbb-47c7-af9d-a9c5ca573cef button.colab-df-convert');\n",
              "      buttonEl.style.display =\n",
              "        google.colab.kernel.accessAllowed ? 'block' : 'none';\n",
              "\n",
              "      async function convertToInteractive(key) {\n",
              "        const element = document.querySelector('#df-7e2ef9b9-dcbb-47c7-af9d-a9c5ca573cef');\n",
              "        const dataTable =\n",
              "          await google.colab.kernel.invokeFunction('convertToInteractive',\n",
              "                                                    [key], {});\n",
              "        if (!dataTable) return;\n",
              "\n",
              "        const docLinkHtml = 'Like what you see? Visit the ' +\n",
              "          '<a target=\"_blank\" href=https://colab.research.google.com/notebooks/data_table.ipynb>data table notebook</a>'\n",
              "          + ' to learn more about interactive tables.';\n",
              "        element.innerHTML = '';\n",
              "        dataTable['output_type'] = 'display_data';\n",
              "        await google.colab.output.renderOutput(dataTable, element);\n",
              "        const docLink = document.createElement('div');\n",
              "        docLink.innerHTML = docLinkHtml;\n",
              "        element.appendChild(docLink);\n",
              "      }\n",
              "    </script>\n",
              "  </div>\n",
              "\n",
              "\n",
              "<div id=\"df-a8668f89-8953-487c-8d34-3457ffec940f\">\n",
              "  <button class=\"colab-df-quickchart\" onclick=\"quickchart('df-a8668f89-8953-487c-8d34-3457ffec940f')\"\n",
              "            title=\"Suggest charts\"\n",
              "            style=\"display:none;\">\n",
              "\n",
              "<svg xmlns=\"http://www.w3.org/2000/svg\" height=\"24px\"viewBox=\"0 0 24 24\"\n",
              "     width=\"24px\">\n",
              "    <g>\n",
              "        <path d=\"M19 3H5c-1.1 0-2 .9-2 2v14c0 1.1.9 2 2 2h14c1.1 0 2-.9 2-2V5c0-1.1-.9-2-2-2zM9 17H7v-7h2v7zm4 0h-2V7h2v10zm4 0h-2v-4h2v4z\"/>\n",
              "    </g>\n",
              "</svg>\n",
              "  </button>\n",
              "\n",
              "<style>\n",
              "  .colab-df-quickchart {\n",
              "      --bg-color: #E8F0FE;\n",
              "      --fill-color: #1967D2;\n",
              "      --hover-bg-color: #E2EBFA;\n",
              "      --hover-fill-color: #174EA6;\n",
              "      --disabled-fill-color: #AAA;\n",
              "      --disabled-bg-color: #DDD;\n",
              "  }\n",
              "\n",
              "  [theme=dark] .colab-df-quickchart {\n",
              "      --bg-color: #3B4455;\n",
              "      --fill-color: #D2E3FC;\n",
              "      --hover-bg-color: #434B5C;\n",
              "      --hover-fill-color: #FFFFFF;\n",
              "      --disabled-bg-color: #3B4455;\n",
              "      --disabled-fill-color: #666;\n",
              "  }\n",
              "\n",
              "  .colab-df-quickchart {\n",
              "    background-color: var(--bg-color);\n",
              "    border: none;\n",
              "    border-radius: 50%;\n",
              "    cursor: pointer;\n",
              "    display: none;\n",
              "    fill: var(--fill-color);\n",
              "    height: 32px;\n",
              "    padding: 0;\n",
              "    width: 32px;\n",
              "  }\n",
              "\n",
              "  .colab-df-quickchart:hover {\n",
              "    background-color: var(--hover-bg-color);\n",
              "    box-shadow: 0 1px 2px rgba(60, 64, 67, 0.3), 0 1px 3px 1px rgba(60, 64, 67, 0.15);\n",
              "    fill: var(--button-hover-fill-color);\n",
              "  }\n",
              "\n",
              "  .colab-df-quickchart-complete:disabled,\n",
              "  .colab-df-quickchart-complete:disabled:hover {\n",
              "    background-color: var(--disabled-bg-color);\n",
              "    fill: var(--disabled-fill-color);\n",
              "    box-shadow: none;\n",
              "  }\n",
              "\n",
              "  .colab-df-spinner {\n",
              "    border: 2px solid var(--fill-color);\n",
              "    border-color: transparent;\n",
              "    border-bottom-color: var(--fill-color);\n",
              "    animation:\n",
              "      spin 1s steps(1) infinite;\n",
              "  }\n",
              "\n",
              "  @keyframes spin {\n",
              "    0% {\n",
              "      border-color: transparent;\n",
              "      border-bottom-color: var(--fill-color);\n",
              "      border-left-color: var(--fill-color);\n",
              "    }\n",
              "    20% {\n",
              "      border-color: transparent;\n",
              "      border-left-color: var(--fill-color);\n",
              "      border-top-color: var(--fill-color);\n",
              "    }\n",
              "    30% {\n",
              "      border-color: transparent;\n",
              "      border-left-color: var(--fill-color);\n",
              "      border-top-color: var(--fill-color);\n",
              "      border-right-color: var(--fill-color);\n",
              "    }\n",
              "    40% {\n",
              "      border-color: transparent;\n",
              "      border-right-color: var(--fill-color);\n",
              "      border-top-color: var(--fill-color);\n",
              "    }\n",
              "    60% {\n",
              "      border-color: transparent;\n",
              "      border-right-color: var(--fill-color);\n",
              "    }\n",
              "    80% {\n",
              "      border-color: transparent;\n",
              "      border-right-color: var(--fill-color);\n",
              "      border-bottom-color: var(--fill-color);\n",
              "    }\n",
              "    90% {\n",
              "      border-color: transparent;\n",
              "      border-bottom-color: var(--fill-color);\n",
              "    }\n",
              "  }\n",
              "</style>\n",
              "\n",
              "  <script>\n",
              "    async function quickchart(key) {\n",
              "      const quickchartButtonEl =\n",
              "        document.querySelector('#' + key + ' button');\n",
              "      quickchartButtonEl.disabled = true;  // To prevent multiple clicks.\n",
              "      quickchartButtonEl.classList.add('colab-df-spinner');\n",
              "      try {\n",
              "        const charts = await google.colab.kernel.invokeFunction(\n",
              "            'suggestCharts', [key], {});\n",
              "      } catch (error) {\n",
              "        console.error('Error during call to suggestCharts:', error);\n",
              "      }\n",
              "      quickchartButtonEl.classList.remove('colab-df-spinner');\n",
              "      quickchartButtonEl.classList.add('colab-df-quickchart-complete');\n",
              "    }\n",
              "    (() => {\n",
              "      let quickchartButtonEl =\n",
              "        document.querySelector('#df-a8668f89-8953-487c-8d34-3457ffec940f button');\n",
              "      quickchartButtonEl.style.display =\n",
              "        google.colab.kernel.accessAllowed ? 'block' : 'none';\n",
              "    })();\n",
              "  </script>\n",
              "</div>\n",
              "\n",
              "  <div id=\"id_5cb305ee-c527-49ed-ba79-06ed86ec47fd\">\n",
              "    <style>\n",
              "      .colab-df-generate {\n",
              "        background-color: #E8F0FE;\n",
              "        border: none;\n",
              "        border-radius: 50%;\n",
              "        cursor: pointer;\n",
              "        display: none;\n",
              "        fill: #1967D2;\n",
              "        height: 32px;\n",
              "        padding: 0 0 0 0;\n",
              "        width: 32px;\n",
              "      }\n",
              "\n",
              "      .colab-df-generate:hover {\n",
              "        background-color: #E2EBFA;\n",
              "        box-shadow: 0px 1px 2px rgba(60, 64, 67, 0.3), 0px 1px 3px 1px rgba(60, 64, 67, 0.15);\n",
              "        fill: #174EA6;\n",
              "      }\n",
              "\n",
              "      [theme=dark] .colab-df-generate {\n",
              "        background-color: #3B4455;\n",
              "        fill: #D2E3FC;\n",
              "      }\n",
              "\n",
              "      [theme=dark] .colab-df-generate:hover {\n",
              "        background-color: #434B5C;\n",
              "        box-shadow: 0px 1px 3px 1px rgba(0, 0, 0, 0.15);\n",
              "        filter: drop-shadow(0px 1px 2px rgba(0, 0, 0, 0.3));\n",
              "        fill: #FFFFFF;\n",
              "      }\n",
              "    </style>\n",
              "    <button class=\"colab-df-generate\" onclick=\"generateWithVariable('preds_df')\"\n",
              "            title=\"Generate code using this dataframe.\"\n",
              "            style=\"display:none;\">\n",
              "\n",
              "  <svg xmlns=\"http://www.w3.org/2000/svg\" height=\"24px\"viewBox=\"0 0 24 24\"\n",
              "       width=\"24px\">\n",
              "    <path d=\"M7,19H8.4L18.45,9,17,7.55,7,17.6ZM5,21V16.75L18.45,3.32a2,2,0,0,1,2.83,0l1.4,1.43a1.91,1.91,0,0,1,.58,1.4,1.91,1.91,0,0,1-.58,1.4L9.25,21ZM18.45,9,17,7.55Zm-12,3A5.31,5.31,0,0,0,4.9,8.1,5.31,5.31,0,0,0,1,6.5,5.31,5.31,0,0,0,4.9,4.9,5.31,5.31,0,0,0,6.5,1,5.31,5.31,0,0,0,8.1,4.9,5.31,5.31,0,0,0,12,6.5,5.46,5.46,0,0,0,6.5,12Z\"/>\n",
              "  </svg>\n",
              "    </button>\n",
              "    <script>\n",
              "      (() => {\n",
              "      const buttonEl =\n",
              "        document.querySelector('#id_5cb305ee-c527-49ed-ba79-06ed86ec47fd button.colab-df-generate');\n",
              "      buttonEl.style.display =\n",
              "        google.colab.kernel.accessAllowed ? 'block' : 'none';\n",
              "\n",
              "      buttonEl.onclick = () => {\n",
              "        google.colab.notebook.generateWithVariable('preds_df');\n",
              "      }\n",
              "      })();\n",
              "    </script>\n",
              "  </div>\n",
              "\n",
              "    </div>\n",
              "  </div>\n"
            ],
            "application/vnd.google.colaboratory.intrinsic+json": {
              "type": "dataframe",
              "variable_name": "preds_df",
              "summary": "{\n  \"name\": \"preds_df\",\n  \"rows\": 172,\n  \"fields\": [\n    {\n      \"column\": \"Current Position Requirments\",\n      \"properties\": {\n        \"dtype\": \"string\",\n        \"num_unique_values\": 169,\n        \"samples\": [\n          \"At least 5 years of experience in software development; Advanced knowledge of OO PHP and PHP frameworks; Strong knowledge of Core.js and jQuery; Excellent HTML and CSS skills; Knowledge of modern JS frameworks (such as AngularJS, KnockoutJS and BackboneJS) is a big plus; Experience of working with CMSs (Drupal and Wordpress) is a big plus; Knowledge of a second server side programming language (such as Java and .Net) is a plus; Highly motivated, passionate, adaptable person; eagerness to learn new technologies and methods; Fluency in the English language (reading, writing and speaking); Good communication skills; Good team player; ability to accept criticism; Fast learner; responsible personality.\",\n          \"4-year college degree in Computer Sciences or other related technical discipline; MA and PhD are preferred;   Desired experience in designing, developing and troubleshooting software in Java and related web technologies; From 5 to 10 years of experience in programming, especially in Java; At least 4 years of work experience in J2EE development; Previous experience with one or more production/ mission critical web applications is highly desirable;   Working knowledge of and experience in Web technologies and web-based dynamic application development, especially Java Servlets, JSPs and Web Services; Working knowledge of XML, XSLT, HTML, CSS, Java Scripts, AJAX and related technologies; Experience with Java/ RDBMS ORM technologies and DBMS design, as well as programming within web applications; Effective written and oral communication skills;   Knowledge of customer needs and competing products is desirable; Ability to analyze and solve complex software engineering problems; Ability to prioritize work, complete multiple tasks and work under deadline and budget guidelines; Fluency in English language.\",\n          \"At least 4 years of work experience in Web application development based on .Net framework; Strong knowledge of C#, VB.Net, SQL, NET 2.0; Strong knowledge of ASP.Net, Style Sheets, HTML, JavaScript; Good knowledge of XML, XSLT, ASP; Good knowledge of Visual Studio 2005 and MS SQL Server 2005;  Ability to evaluate algorithms and technical solutions; Ability to work under pressure; Good knowledge of English language.\"\n        ],\n        \"semantic_type\": \"\",\n        \"description\": \"\"\n      }\n    },\n    {\n      \"column\": \"Current Position\",\n      \"properties\": {\n        \"dtype\": \"category\",\n        \"num_unique_values\": 14,\n        \"samples\": [\n          \"Programmer\",\n          \"iOS Developer\",\n          \"Android Developer\"\n        ],\n        \"semantic_type\": \"\",\n        \"description\": \"\"\n      }\n    },\n    {\n      \"column\": \"Alternative 1\",\n      \"properties\": {\n        \"dtype\": \"category\",\n        \"num_unique_values\": 10,\n        \"samples\": [\n          \"Programmer\",\n          \"Web Developer\",\n          \"PHP Developer\"\n        ],\n        \"semantic_type\": \"\",\n        \"description\": \"\"\n      }\n    },\n    {\n      \"column\": \"Alternative 2\",\n      \"properties\": {\n        \"dtype\": \"category\",\n        \"num_unique_values\": 12,\n        \"samples\": [\n          \"Database Admin/Dev\",\n          \"IT Specialist\",\n          \"Software Engineer\"\n        ],\n        \"semantic_type\": \"\",\n        \"description\": \"\"\n      }\n    }\n  ]\n}"
            }
          },
          "metadata": {},
          "execution_count": 33
        }
      ]
    }
  ],
  "metadata": {
    "kernelspec": {
      "language": "python",
      "display_name": "Python 3",
      "name": "python3"
    },
    "language_info": {
      "pygments_lexer": "ipython3",
      "nbconvert_exporter": "python",
      "version": "3.6.4",
      "file_extension": ".py",
      "codemirror_mode": {
        "name": "ipython",
        "version": 3
      },
      "name": "python",
      "mimetype": "text/x-python"
    },
    "colab": {
      "name": "IT Job Recommendation ",
      "provenance": []
    }
  },
  "nbformat": 4,
  "nbformat_minor": 0
}